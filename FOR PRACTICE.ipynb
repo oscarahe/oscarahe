{
 "cells": [
  {
   "cell_type": "code",
   "execution_count": 1,
   "id": "4b076eb3-d578-4217-b5af-4676d03acaad",
   "metadata": {},
   "outputs": [],
   "source": [
    "#inmutable objetcs\n",
    "#def my_f(x):\n",
    "    #print(id(x))\n",
    "    #x=24\n",
    "    #print(id(x))\n",
    "#h=2\n",
    "#print(id(h))\n",
    "#my_f(h)\n"
   ]
  },
  {
   "cell_type": "code",
   "execution_count": 2,
   "id": "2fb8c930-22af-4256-9ea3-67a7bb9f1b35",
   "metadata": {},
   "outputs": [
    {
     "name": "stdout",
     "output_type": "stream",
     "text": [
      "2850272557952\n",
      "2850272557952\n",
      "2850272557952\n",
      "[24, 2, 3]\n"
     ]
    }
   ],
   "source": [
    "#mutable objects, no estamos creando un nuevo objeto, solo estamos cambiando uno que \n",
    "#ya existe.\n",
    "def my_f2(x):\n",
    "    print(id(x))\n",
    "    x[0]=24\n",
    "    print(id(x))\n",
    "h=[1,2,3]\n",
    "print(id(h))\n",
    "my_f2(h)\n",
    "print(h)"
   ]
  },
  {
   "cell_type": "code",
   "execution_count": 7,
   "id": "a9fec7b6-f135-4b8b-877a-5d9ec6fc927b",
   "metadata": {},
   "outputs": [
    {
     "name": "stdout",
     "output_type": "stream",
     "text": [
      "['Oscar', 'Alan', 'Juan', 'Martha']\n"
     ]
    }
   ],
   "source": [
    "def add_student(l,studentName):\n",
    "    l.append(studentName)\n",
    "\n",
    "students=['Oscar','Alan','Juan']\n",
    "add_student(students,'Martha')\n",
    "print(students)"
   ]
  },
  {
   "cell_type": "code",
   "execution_count": 1,
   "id": "eb020a4b-c196-45e2-8362-8cc10f0b7564",
   "metadata": {},
   "outputs": [
    {
     "name": "stdout",
     "output_type": "stream",
     "text": [
      "(4, 1, 2)\n",
      "1\n",
      "3\n",
      "4\n",
      "['Oscar', 'Alan', 'Hernandez']\n",
      "Oscar\n",
      "Alan\n",
      "Hernandez\n"
     ]
    }
   ],
   "source": [
    "import random \n",
    "def roll_3_dice():\n",
    "    d1 =random.randint(1,6)\n",
    "    d2 =random.randint(1,6)\n",
    "    d3 =random.randint(1,6)\n",
    "\n",
    "    return(d1,d2,d3)\n",
    "\n",
    "#print(roll_3_dice())\n",
    "dice_tup=roll_3_dice()\n",
    "print(dice_tup)\n",
    "\n",
    "die1,die2,die3=roll_3_dice()\n",
    "print(die1)\n",
    "print(die2)\n",
    "print(die3)\n",
    "\n",
    "def name_splitter(name):\n",
    "    name_sep=name.split()\n",
    "    return(name_sep)\n",
    "their_names=name_splitter(\"Oscar Alan Hernandez\")\n",
    "print(their_names)\n",
    "\n",
    "first,middle,last=name_splitter(\"Oscar Alan Hernandez\")\n",
    "print(first)\n",
    "print(middle)\n",
    "print(last)\n"
   ]
  },
  {
   "cell_type": "code",
   "execution_count": 1,
   "id": "2ba35f5d-883d-4fc4-a75b-e58c67ee0976",
   "metadata": {},
   "outputs": [
    {
     "name": "stdout",
     "output_type": "stream",
     "text": [
      "5 6 7 8 9 "
     ]
    }
   ],
   "source": [
    "for number in range(5, 10):\n",
    "    print(number, end=' ')"
   ]
  },
  {
   "cell_type": "code",
   "execution_count": 2,
   "id": "fbb83619-0968-49b5-97c8-de6d25b5461f",
   "metadata": {},
   "outputs": [
    {
     "name": "stdout",
     "output_type": "stream",
     "text": [
      "0 2 4 6 8 "
     ]
    }
   ],
   "source": [
    "for number in range(0, 10, 2):\n",
    "    print(number, end=' ')"
   ]
  },
  {
   "cell_type": "code",
   "execution_count": 3,
   "id": "104acaec-29c2-4503-94df-c33749c4bea9",
   "metadata": {},
   "outputs": [
    {
     "name": "stdout",
     "output_type": "stream",
     "text": [
      "10 8 6 4 2 "
     ]
    }
   ],
   "source": [
    "for number in range(10, 0, -2):\n",
    "    print(number, end=' ')"
   ]
  },
  {
   "cell_type": "code",
   "execution_count": 4,
   "id": "a21418a4-52d9-4580-a9e5-2157d4d4ce12",
   "metadata": {},
   "outputs": [
    {
     "name": "stdout",
     "output_type": "stream",
     "text": [
      "99 88 77 66 55 44 33 22 11 0 "
     ]
    }
   ],
   "source": [
    "for number in range(99, -1, -11):\n",
    "    print(number, end=' ')\n"
   ]
  },
  {
   "cell_type": "code",
   "execution_count": 3,
   "id": "13d0ce8f-0ee7-48d9-af2f-c0a64300a4fd",
   "metadata": {},
   "outputs": [
    {
     "data": {
      "text/plain": [
       "23.2"
      ]
     },
     "execution_count": 3,
     "metadata": {},
     "output_type": "execute_result"
    }
   ],
   "source": [
    "x=10.8\n",
    "y=12.2\n",
    "a=0.2\n",
    "\n",
    "total=x+y+a\n",
    "total"
   ]
  },
  {
   "cell_type": "code",
   "execution_count": 3,
   "id": "8b8fb603",
   "metadata": {},
   "outputs": [],
   "source": [
    "def calculate_product(*args): #args es un tupla de argumentos\n",
    "    product=1\n",
    "    for value in args:\n",
    "     product*=value\n",
    "    return product \n",
    "    \n",
    "\n"
   ]
  },
  {
   "cell_type": "code",
   "execution_count": 5,
   "id": "6cea56d0",
   "metadata": {},
   "outputs": [
    {
     "data": {
      "text/plain": [
       "6000"
      ]
     },
     "execution_count": 5,
     "metadata": {},
     "output_type": "execute_result"
    }
   ],
   "source": [
    "calculate_product(10,20,30)"
   ]
  },
  {
   "cell_type": "code",
   "execution_count": 6,
   "id": "be8097e2",
   "metadata": {},
   "outputs": [
    {
     "data": {
      "text/plain": [
       "15"
      ]
     },
     "execution_count": 6,
     "metadata": {},
     "output_type": "execute_result"
    }
   ],
   "source": [
    "calculate_product(*range(1,6,2))\n",
    "# secuencia de valores de 1 a 6, incrementando por dos y seria 1,3,5 y despues se hace el producto\n",
    "#el resultado es 15"
   ]
  },
  {
   "cell_type": "code",
   "execution_count": 9,
   "id": "7c5660d7",
   "metadata": {},
   "outputs": [],
   "source": [
    "def average(*args):\n",
    "    return sum(args)/len(args)"
   ]
  },
  {
   "cell_type": "code",
   "execution_count": 11,
   "id": "3ee4da7b",
   "metadata": {},
   "outputs": [
    {
     "data": {
      "text/plain": [
       "7.5"
      ]
     },
     "execution_count": 11,
     "metadata": {},
     "output_type": "execute_result"
    }
   ],
   "source": [
    "average(10,5)"
   ]
  },
  {
   "cell_type": "code",
   "execution_count": 10,
   "id": "88ed128e",
   "metadata": {},
   "outputs": [
    {
     "data": {
      "text/plain": [
       "30.0"
      ]
     },
     "execution_count": 10,
     "metadata": {},
     "output_type": "execute_result"
    }
   ],
   "source": [
    "grades=[10,30,50]\n",
    "average(*grades)"
   ]
  },
  {
   "cell_type": "code",
   "execution_count": 13,
   "id": "94bd552f",
   "metadata": {},
   "outputs": [
    {
     "data": {
      "text/plain": [
       "Decimal('6.25')"
      ]
     },
     "execution_count": 13,
     "metadata": {},
     "output_type": "execute_result"
    }
   ],
   "source": [
    "import decimal as dec\n",
    "dec.Decimal(\"2.5\")**2\n"
   ]
  },
  {
   "cell_type": "code",
   "execution_count": 14,
   "id": "52a15821",
   "metadata": {},
   "outputs": [
    {
     "name": "stdout",
     "output_type": "stream",
     "text": [
      "id: 1917922131472 value: 15.5\n"
     ]
    }
   ],
   "source": [
    "width=15.5\n",
    "print(\"id:\",id(width),\"value:\",width)"
   ]
  },
  {
   "cell_type": "code",
   "execution_count": 15,
   "id": "87a0e17d",
   "metadata": {},
   "outputs": [
    {
     "name": "stdout",
     "output_type": "stream",
     "text": [
      "id: 1917922130544 value: 46.5\n"
     ]
    }
   ],
   "source": [
    "width*=3\n",
    "\n",
    "print(\"id:\",id(width),\"value:\",width)"
   ]
  },
  {
   "cell_type": "code",
   "execution_count": 16,
   "id": "4255273e",
   "metadata": {},
   "outputs": [
    {
     "data": {
      "text/plain": [
       "2.25"
      ]
     },
     "execution_count": 16,
     "metadata": {},
     "output_type": "execute_result"
    }
   ],
   "source": [
    "import statistics # para sacar varianza\n",
    "statistics.pvariance([1,3,4,2,6,5,3,4,5,2])\n"
   ]
  },
  {
   "cell_type": "code",
   "execution_count": 17,
   "id": "2e13d92e",
   "metadata": {},
   "outputs": [
    {
     "data": {
      "text/plain": [
       "1.5"
      ]
     },
     "execution_count": 17,
     "metadata": {},
     "output_type": "execute_result"
    }
   ],
   "source": [
    "statistics.pstdev([1,3,4,2,6,5,3,4,5,2])#population standard deviation"
   ]
  },
  {
   "cell_type": "code",
   "execution_count": 19,
   "id": "836548ce",
   "metadata": {},
   "outputs": [
    {
     "data": {
      "text/plain": [
       "1.5"
      ]
     },
     "execution_count": 19,
     "metadata": {},
     "output_type": "execute_result"
    }
   ],
   "source": [
    "import math\n",
    "math.sqrt(statistics.pvariance([1,3,4,2,6,5,3,4,5,2]))\n",
    "#confirmamos que es la population standard deviation \n",
    "#la desviacion estandard es la raiz cuadrada de la varianza(1.5 en este caso)\n",
    "#Mientras mas pequena sea la varianza y la desviacion standard, los data values estan mas \n",
    "#cerca de la media y menos de la dispersion "
   ]
  },
  {
   "cell_type": "code",
   "execution_count": 20,
   "id": "5ddc9dd7",
   "metadata": {},
   "outputs": [
    {
     "data": {
      "text/plain": [
       "1543"
      ]
     },
     "execution_count": 20,
     "metadata": {},
     "output_type": "execute_result"
    }
   ],
   "source": [
    "c=[-45,6,0,72,1543]\n",
    "c[-1]"
   ]
  },
  {
   "cell_type": "code",
   "execution_count": 21,
   "id": "5210018e",
   "metadata": {},
   "outputs": [],
   "source": [
    "a=1\n",
    "b=2"
   ]
  },
  {
   "cell_type": "code",
   "execution_count": 22,
   "id": "4b341ca3",
   "metadata": {},
   "outputs": [
    {
     "data": {
      "text/plain": [
       "72"
      ]
     },
     "execution_count": 22,
     "metadata": {},
     "output_type": "execute_result"
    }
   ],
   "source": [
    "c[a+b] # da 72 porque el numero 71 esta en el lugar 3 de la lista despues de hacer la suma"
   ]
  },
  {
   "cell_type": "code",
   "execution_count": 23,
   "id": "c9d63901",
   "metadata": {},
   "outputs": [
    {
     "data": {
      "text/plain": [
       "'H'"
      ]
     },
     "execution_count": 23,
     "metadata": {},
     "output_type": "execute_result"
    }
   ],
   "source": [
    "s='Hello'\n",
    "s[0]"
   ]
  },
  {
   "cell_type": "code",
   "execution_count": 24,
   "id": "1a9f74a4",
   "metadata": {},
   "outputs": [
    {
     "ename": "TypeError",
     "evalue": "'str' object does not support item assignment",
     "output_type": "error",
     "traceback": [
      "\u001b[1;31m---------------------------------------------------------------------------\u001b[0m",
      "\u001b[1;31mTypeError\u001b[0m                                 Traceback (most recent call last)",
      "\u001b[1;32m<ipython-input-24-7eefde5a7578>\u001b[0m in \u001b[0;36m<module>\u001b[1;34m\u001b[0m\n\u001b[1;32m----> 1\u001b[1;33m \u001b[0ms\u001b[0m\u001b[1;33m[\u001b[0m\u001b[1;36m0\u001b[0m\u001b[1;33m]\u001b[0m\u001b[1;33m=\u001b[0m\u001b[1;34m'h'\u001b[0m\u001b[1;33m\u001b[0m\u001b[1;33m\u001b[0m\u001b[0m\n\u001b[0m",
      "\u001b[1;31mTypeError\u001b[0m: 'str' object does not support item assignment"
     ]
    }
   ],
   "source": [
    "s[0]='h' #los strings son inmutables no se pueden modificar "
   ]
  },
  {
   "cell_type": "code",
   "execution_count": 16,
   "id": "39453c47",
   "metadata": {},
   "outputs": [],
   "source": [
    "a_list=[] #lista que no tiene elementos"
   ]
  },
  {
   "cell_type": "code",
   "execution_count": 17,
   "id": "2f053f65",
   "metadata": {},
   "outputs": [
    {
     "data": {
      "text/plain": [
       "[1, 2, 3, 4, 5]"
      ]
     },
     "execution_count": 17,
     "metadata": {},
     "output_type": "execute_result"
    }
   ],
   "source": [
    "for number in range(1,6):\n",
    "    a_list+=[number] #+= tiene que ser una secuencia para que funcione, es un operador que concatena\n",
    "a_list   #SI EL LADO IZQUIERDO ES UNA LISTA, EL DERECHO DEBE SER UNA SECUENCIA QUE SE PUEDE ITERAR "
   ]
  },
  {
   "cell_type": "code",
   "execution_count": 18,
   "id": "8fb5bf52",
   "metadata": {},
   "outputs": [],
   "source": [
    "letters=[]\n",
    "letters+='Python'"
   ]
  },
  {
   "cell_type": "code",
   "execution_count": 19,
   "id": "1fbfa7d3",
   "metadata": {},
   "outputs": [
    {
     "data": {
      "text/plain": [
       "['P', 'y', 't', 'h', 'o', 'n']"
      ]
     },
     "execution_count": 19,
     "metadata": {},
     "output_type": "execute_result"
    }
   ],
   "source": [
    "letters"
   ]
  },
  {
   "cell_type": "code",
   "execution_count": 20,
   "id": "aac6b261",
   "metadata": {},
   "outputs": [],
   "source": [
    "list1=[10,20,30]\n",
    "list2=[40,50]"
   ]
  },
  {
   "cell_type": "code",
   "execution_count": 21,
   "id": "3c8ad2c5",
   "metadata": {},
   "outputs": [
    {
     "data": {
      "text/plain": [
       "[10, 20, 30, 40, 50]"
      ]
     },
     "execution_count": 21,
     "metadata": {},
     "output_type": "execute_result"
    }
   ],
   "source": [
    "concatenated_list= list1 + list2\n",
    "concatenated_list"
   ]
  },
  {
   "cell_type": "code",
   "execution_count": 24,
   "id": "201503ac",
   "metadata": {},
   "outputs": [
    {
     "name": "stdout",
     "output_type": "stream",
     "text": [
      "0:10\n",
      "1:20\n",
      "2:30\n",
      "3:40\n",
      "4:50\n"
     ]
    }
   ],
   "source": [
    "for i in range (len(concatenated_list)):\n",
    "    print(f'{i}:{concatenated_list[i]}') # te pone los indices "
   ]
  },
  {
   "cell_type": "code",
   "execution_count": 37,
   "id": "72ccd2a7",
   "metadata": {},
   "outputs": [
    {
     "data": {
      "text/plain": [
       "['B', 'i', 'r', 't', 'h', 'd', 'a', 'y']"
      ]
     },
     "execution_count": 37,
     "metadata": {},
     "output_type": "execute_result"
    }
   ],
   "source": [
    "characters=[]\n",
    "characters+='Birthday'\n",
    "characters"
   ]
  },
  {
   "cell_type": "markdown",
   "id": "147df82a",
   "metadata": {},
   "source": [
    "#### EXERCISE CREATE A FUNCTION CALLED CUBE_LIST THAT CUBES EACH ELEMENT FROM A LIST, CALL THE FUNCTION WITH THE LIST NUMBERS CONTAINING 1 THROUGH 10, Show numbers after the call "
   ]
  },
  {
   "cell_type": "code",
   "execution_count": 44,
   "id": "a6c11865",
   "metadata": {},
   "outputs": [],
   "source": [
    "def cube_list(values):\n",
    "    for i in range(len(values)):\n",
    "        values[i]**=3"
   ]
  },
  {
   "cell_type": "code",
   "execution_count": 45,
   "id": "8fbd875b",
   "metadata": {},
   "outputs": [],
   "source": [
    "numbers=[1,2,3,4,5,6,7,8,9,10]"
   ]
  },
  {
   "cell_type": "code",
   "execution_count": 46,
   "id": "fb0bb670",
   "metadata": {},
   "outputs": [],
   "source": [
    "cube_list(numbers)"
   ]
  },
  {
   "cell_type": "code",
   "execution_count": 47,
   "id": "636d33b0",
   "metadata": {},
   "outputs": [
    {
     "data": {
      "text/plain": [
       "[1, 8, 27, 64, 125, 216, 343, 512, 729, 1000]"
      ]
     },
     "execution_count": 47,
     "metadata": {},
     "output_type": "execute_result"
    }
   ],
   "source": [
    "numbers"
   ]
  },
  {
   "cell_type": "code",
   "execution_count": 3,
   "id": "3c3ddeb2",
   "metadata": {},
   "outputs": [
    {
     "data": {
      "text/plain": [
       "[(0, 'orange'), (1, 'red'), (2, 'yellow')]"
      ]
     },
     "execution_count": 3,
     "metadata": {},
     "output_type": "execute_result"
    }
   ],
   "source": [
    "colors=['orange','red','yellow']\n",
    "list(enumerate(colors))"
   ]
  },
  {
   "cell_type": "code",
   "execution_count": 4,
   "id": "99fa64aa",
   "metadata": {},
   "outputs": [
    {
     "data": {
      "text/plain": [
       "((0, 'orange'), (1, 'red'), (2, 'yellow'))"
      ]
     },
     "execution_count": 4,
     "metadata": {},
     "output_type": "execute_result"
    }
   ],
   "source": [
    "tuple(enumerate(colors))"
   ]
  },
  {
   "cell_type": "code",
   "execution_count": 5,
   "id": "128c296a",
   "metadata": {},
   "outputs": [
    {
     "name": "stdout",
     "output_type": "stream",
     "text": [
      "0:orange\n",
      "1:red\n",
      "2:yellow\n"
     ]
    }
   ],
   "source": [
    "for index, value in enumerate(colors):\n",
    "    print(f'{index}:{value}')\n"
   ]
  },
  {
   "cell_type": "code",
   "execution_count": 6,
   "id": "160e0ca7",
   "metadata": {},
   "outputs": [
    {
     "data": {
      "text/plain": [
       "('Monday', 87, 65)"
      ]
     },
     "execution_count": 6,
     "metadata": {},
     "output_type": "execute_result"
    }
   ],
   "source": [
    "high_low=(\"Monday\",87,65)\n",
    "high_low"
   ]
  },
  {
   "cell_type": "code",
   "execution_count": 9,
   "id": "843a25fe",
   "metadata": {},
   "outputs": [
    {
     "name": "stdout",
     "output_type": "stream",
     "text": [
      "Monday:High=87, Low=65\n"
     ]
    }
   ],
   "source": [
    "print(f'{high_low[0]}:High={high_low[1]}, Low={high_low[2]}')"
   ]
  },
  {
   "cell_type": "code",
   "execution_count": 10,
   "id": "6023a533",
   "metadata": {},
   "outputs": [],
   "source": [
    "names=['alan','juan','jorge']\n"
   ]
  },
  {
   "cell_type": "code",
   "execution_count": 11,
   "id": "5953b1f7",
   "metadata": {},
   "outputs": [
    {
     "name": "stdout",
     "output_type": "stream",
     "text": [
      "0:alan\n",
      "1:juan\n",
      "2:jorge\n"
     ]
    }
   ],
   "source": [
    "for i, name in enumerate(names):\n",
    "    print(f'{i}:{name}')"
   ]
  },
  {
   "cell_type": "code",
   "execution_count": 79,
   "id": "987ac135",
   "metadata": {},
   "outputs": [
    {
     "data": {
      "text/plain": [
       "[1, 2, 3, 4, 5, 6, 7, 8, 9, 10, 11, 12, 13, 14, 15]"
      ]
     },
     "execution_count": 79,
     "metadata": {},
     "output_type": "execute_result"
    }
   ],
   "source": [
    "numbers=list(range(1,16))\n",
    "numbers"
   ]
  },
  {
   "cell_type": "code",
   "execution_count": 80,
   "id": "71ff73ea",
   "metadata": {},
   "outputs": [],
   "source": [
    "del numbers[0:4]"
   ]
  },
  {
   "cell_type": "code",
   "execution_count": 81,
   "id": "e698c7f5",
   "metadata": {},
   "outputs": [
    {
     "data": {
      "text/plain": [
       "[5, 6, 7, 8, 9, 10, 11, 12, 13, 14, 15]"
      ]
     },
     "execution_count": 81,
     "metadata": {},
     "output_type": "execute_result"
    }
   ],
   "source": [
    "numbers"
   ]
  },
  {
   "cell_type": "code",
   "execution_count": 82,
   "id": "5c20a04b",
   "metadata": {},
   "outputs": [],
   "source": [
    "del numbers [::2]\n"
   ]
  },
  {
   "cell_type": "code",
   "execution_count": 83,
   "id": "c95013ba",
   "metadata": {},
   "outputs": [
    {
     "data": {
      "text/plain": [
       "[6, 8, 10, 12, 14]"
      ]
     },
     "execution_count": 83,
     "metadata": {},
     "output_type": "execute_result"
    }
   ],
   "source": [
    "numbers"
   ]
  },
  {
   "cell_type": "code",
   "execution_count": 85,
   "id": "bbccb674",
   "metadata": {},
   "outputs": [
    {
     "data": {
      "text/plain": [
       "[10, 3, 7, 1, 9]"
      ]
     },
     "execution_count": 85,
     "metadata": {},
     "output_type": "execute_result"
    }
   ],
   "source": [
    "# PASSING LISTS TO FUNCTIONS \n",
    "def modify_elements(items): # multiplica todos los elementos en los items por 2\n",
    "    for i in range(len(items)):\n",
    "        items[i]*=2\n",
    "numbers=[10,3,7,1,9]\n",
    "numbers\n",
    "\n",
    "\n",
    "    \n"
   ]
  },
  {
   "cell_type": "code",
   "execution_count": 86,
   "id": "28e5f96f",
   "metadata": {},
   "outputs": [
    {
     "data": {
      "text/plain": [
       "[20, 6, 14, 2, 18]"
      ]
     },
     "execution_count": 86,
     "metadata": {},
     "output_type": "execute_result"
    }
   ],
   "source": [
    "modify_elements(numbers)\n",
    "numbers"
   ]
  },
  {
   "cell_type": "code",
   "execution_count": 87,
   "id": "d047afdc",
   "metadata": {},
   "outputs": [],
   "source": [
    "numbers_tuple=(10,20,30)\n"
   ]
  },
  {
   "cell_type": "code",
   "execution_count": 88,
   "id": "46f5f2c4",
   "metadata": {},
   "outputs": [
    {
     "data": {
      "text/plain": [
       "(10, 20, 30)"
      ]
     },
     "execution_count": 88,
     "metadata": {},
     "output_type": "execute_result"
    }
   ],
   "source": [
    "numbers_tuple"
   ]
  },
  {
   "cell_type": "code",
   "execution_count": 89,
   "id": "75994368",
   "metadata": {},
   "outputs": [
    {
     "ename": "TypeError",
     "evalue": "'tuple' object does not support item assignment",
     "output_type": "error",
     "traceback": [
      "\u001b[1;31m---------------------------------------------------------------------------\u001b[0m",
      "\u001b[1;31mTypeError\u001b[0m                                 Traceback (most recent call last)",
      "\u001b[1;32m<ipython-input-89-9339741cd595>\u001b[0m in \u001b[0;36m<module>\u001b[1;34m\u001b[0m\n\u001b[1;32m----> 1\u001b[1;33m \u001b[0mmodify_elements\u001b[0m\u001b[1;33m(\u001b[0m\u001b[0mnumbers_tuple\u001b[0m\u001b[1;33m)\u001b[0m\u001b[1;33m\u001b[0m\u001b[1;33m\u001b[0m\u001b[0m\n\u001b[0m",
      "\u001b[1;32m<ipython-input-85-c893d4510e0d>\u001b[0m in \u001b[0;36mmodify_elements\u001b[1;34m(items)\u001b[0m\n\u001b[0;32m      1\u001b[0m \u001b[1;32mdef\u001b[0m \u001b[0mmodify_elements\u001b[0m\u001b[1;33m(\u001b[0m\u001b[0mitems\u001b[0m\u001b[1;33m)\u001b[0m\u001b[1;33m:\u001b[0m \u001b[1;31m# multiplica todos los elementos en los items por 2\u001b[0m\u001b[1;33m\u001b[0m\u001b[1;33m\u001b[0m\u001b[0m\n\u001b[0;32m      2\u001b[0m     \u001b[1;32mfor\u001b[0m \u001b[0mi\u001b[0m \u001b[1;32min\u001b[0m \u001b[0mrange\u001b[0m\u001b[1;33m(\u001b[0m\u001b[0mlen\u001b[0m\u001b[1;33m(\u001b[0m\u001b[0mitems\u001b[0m\u001b[1;33m)\u001b[0m\u001b[1;33m)\u001b[0m\u001b[1;33m:\u001b[0m\u001b[1;33m\u001b[0m\u001b[1;33m\u001b[0m\u001b[0m\n\u001b[1;32m----> 3\u001b[1;33m         \u001b[0mitems\u001b[0m\u001b[1;33m[\u001b[0m\u001b[0mi\u001b[0m\u001b[1;33m]\u001b[0m\u001b[1;33m*=\u001b[0m\u001b[1;36m2\u001b[0m\u001b[1;33m\u001b[0m\u001b[1;33m\u001b[0m\u001b[0m\n\u001b[0m\u001b[0;32m      4\u001b[0m \u001b[0mnumbers\u001b[0m\u001b[1;33m=\u001b[0m\u001b[1;33m[\u001b[0m\u001b[1;36m10\u001b[0m\u001b[1;33m,\u001b[0m\u001b[1;36m3\u001b[0m\u001b[1;33m,\u001b[0m\u001b[1;36m7\u001b[0m\u001b[1;33m,\u001b[0m\u001b[1;36m1\u001b[0m\u001b[1;33m,\u001b[0m\u001b[1;36m9\u001b[0m\u001b[1;33m]\u001b[0m\u001b[1;33m\u001b[0m\u001b[1;33m\u001b[0m\u001b[0m\n\u001b[0;32m      5\u001b[0m \u001b[0mnumbers\u001b[0m\u001b[1;33m\u001b[0m\u001b[1;33m\u001b[0m\u001b[0m\n",
      "\u001b[1;31mTypeError\u001b[0m: 'tuple' object does not support item assignment"
     ]
    }
   ],
   "source": [
    "modify_elements(numbers_tuple)"
   ]
  },
  {
   "cell_type": "code",
   "execution_count": 2,
   "id": "3d11eedb",
   "metadata": {},
   "outputs": [],
   "source": [
    "foods=[\"Cookies\",'pizza','Grapes','apples','steak','Bacon']\n"
   ]
  },
  {
   "cell_type": "code",
   "execution_count": 3,
   "id": "2479ae8e",
   "metadata": {},
   "outputs": [],
   "source": [
    "foods.sort()"
   ]
  },
  {
   "cell_type": "code",
   "execution_count": 4,
   "id": "a5f6f2c0",
   "metadata": {},
   "outputs": [
    {
     "data": {
      "text/plain": [
       "['Bacon', 'Cookies', 'Grapes', 'apples', 'pizza', 'steak']"
      ]
     },
     "execution_count": 4,
     "metadata": {},
     "output_type": "execute_result"
    }
   ],
   "source": [
    "foods #CAPITAL LETTERS salen primero"
   ]
  },
  {
   "cell_type": "code",
   "execution_count": 17,
   "id": "3bd9818a",
   "metadata": {},
   "outputs": [],
   "source": [
    "numbers=[3,7,1,4,2,8,5,6]"
   ]
  },
  {
   "cell_type": "code",
   "execution_count": 18,
   "id": "892be524",
   "metadata": {},
   "outputs": [
    {
     "data": {
      "text/plain": [
       "6"
      ]
     },
     "execution_count": 18,
     "metadata": {},
     "output_type": "execute_result"
    }
   ],
   "source": [
    "numbers.index(5)"
   ]
  },
  {
   "cell_type": "code",
   "execution_count": 19,
   "id": "0dcebb9b",
   "metadata": {},
   "outputs": [],
   "source": [
    "numbers *=2"
   ]
  },
  {
   "cell_type": "code",
   "execution_count": 20,
   "id": "4718b411",
   "metadata": {},
   "outputs": [
    {
     "data": {
      "text/plain": [
       "[3, 7, 1, 4, 2, 8, 5, 6, 3, 7, 1, 4, 2, 8, 5, 6]"
      ]
     },
     "execution_count": 20,
     "metadata": {},
     "output_type": "execute_result"
    }
   ],
   "source": [
    "numbers"
   ]
  },
  {
   "cell_type": "code",
   "execution_count": 1,
   "id": "7814a37b",
   "metadata": {},
   "outputs": [
    {
     "name": "stdout",
     "output_type": "stream",
     "text": [
      "(1, 2, 3, 4, 5)\n",
      "{'cody': True, 'curso': 'Python'}\n"
     ]
    }
   ],
   "source": [
    "def promedio(*args):#Tupla\n",
    "    return sum(args)/len(args)\n",
    "\n",
    "def usuarios (**kwargs):# Diccionario\n",
    "    print(kwargs)\n",
    "    print(type(kwargs))\n",
    "    \n",
    "def combinacion(*args,**kwargs):\n",
    "    print(args)\n",
    "    print(kwargs)\n",
    "\n",
    "combinacion(1,2,3,4,5,cody=True, curso='Python')"
   ]
  },
  {
   "cell_type": "code",
   "execution_count": 1,
   "id": "f2f809fe",
   "metadata": {},
   "outputs": [],
   "source": [
    "my_data={'nombre':\"Oscar\",'edad':33} #ITERACION DE DICCIONARIOS"
   ]
  },
  {
   "cell_type": "code",
   "execution_count": 2,
   "id": "7c624b86",
   "metadata": {},
   "outputs": [
    {
     "data": {
      "text/plain": [
       "{'nombre': 'Oscar', 'edad': 33}"
      ]
     },
     "execution_count": 2,
     "metadata": {},
     "output_type": "execute_result"
    }
   ],
   "source": [
    "my_data"
   ]
  },
  {
   "cell_type": "code",
   "execution_count": 3,
   "id": "4cf02f55",
   "metadata": {},
   "outputs": [
    {
     "data": {
      "text/plain": [
       "dict_items([('nombre', 'Oscar'), ('edad', 33)])"
      ]
     },
     "execution_count": 3,
     "metadata": {},
     "output_type": "execute_result"
    }
   ],
   "source": [
    "my_data.items()"
   ]
  },
  {
   "cell_type": "code",
   "execution_count": 5,
   "id": "4ec6f5f3",
   "metadata": {},
   "outputs": [
    {
     "name": "stdout",
     "output_type": "stream",
     "text": [
      "nombre\n",
      "Oscar\n",
      "edad\n",
      "33\n"
     ]
    }
   ],
   "source": [
    "for key, value in my_data.items():\n",
    "    print(key) #primero imprime la llave y despues la segunda llave que es value \n",
    "    print(value)"
   ]
  }
 ],
 "metadata": {
  "kernelspec": {
   "display_name": "Python 3",
   "language": "python",
   "name": "python3"
  },
  "language_info": {
   "codemirror_mode": {
    "name": "ipython",
    "version": 3
   },
   "file_extension": ".py",
   "mimetype": "text/x-python",
   "name": "python",
   "nbconvert_exporter": "python",
   "pygments_lexer": "ipython3",
   "version": "3.8.8"
  }
 },
 "nbformat": 4,
 "nbformat_minor": 5
}
